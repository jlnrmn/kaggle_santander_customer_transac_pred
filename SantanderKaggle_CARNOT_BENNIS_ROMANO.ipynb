{
 "cells": [
  {
   "cell_type": "markdown",
   "metadata": {},
   "source": [
    "# Packages"
   ]
  },
  {
   "cell_type": "code",
   "execution_count": 1,
   "metadata": {},
   "outputs": [],
   "source": [
    "import pandas as pd\n",
    "import numpy as np\n",
    "import matplotlib.pyplot as plt\n",
    "import seaborn as sns\n",
    "import collections\n",
    "\n",
    "from sklearn.model_selection import train_test_split\n",
    "from sklearn.preprocessing import StandardScaler\n",
    "\n",
    "from sklearn.linear_model import LogisticRegression\n",
    "# from sklearn.neighbors import KNeighborsClassifier\n",
    "#from sklearn.svm import SVC\n",
    "from sklearn.naive_bayes import GaussianNB\n",
    "# from sklearn.tree import DecisionTreeClassifier\n",
    "from sklearn.ensemble import RandomForestClassifier\n",
    "from sklearn.ensemble import GradientBoostingClassifier\n",
    "from sklearn.neural_network import MLPClassifier\n",
    "\n",
    "from sklearn.model_selection import KFold\n",
    "from sklearn.model_selection import RandomizedSearchCV\n",
    "\n",
    "from sklearn.metrics import accuracy_score\n",
    "from sklearn.metrics import confusion_matrix\n",
    "from sklearn.metrics import plot_confusion_matrix"
   ]
  },
  {
   "cell_type": "markdown",
   "metadata": {},
   "source": [
    "# Data"
   ]
  },
  {
   "cell_type": "code",
   "execution_count": 2,
   "metadata": {},
   "outputs": [],
   "source": [
    "data = pd.read_csv('train.csv')"
   ]
  },
  {
   "cell_type": "code",
   "execution_count": 3,
   "metadata": {},
   "outputs": [],
   "source": [
    "X = data.iloc[:,2:].values\n",
    "y = data['target'].values"
   ]
  },
  {
   "cell_type": "code",
   "execution_count": 4,
   "metadata": {},
   "outputs": [
    {
     "data": {
      "text/plain": [
       "Counter({0: 179902, 1: 20098})"
      ]
     },
     "execution_count": 4,
     "metadata": {},
     "output_type": "execute_result"
    }
   ],
   "source": [
    "collections.Counter(y)"
   ]
  },
  {
   "cell_type": "code",
   "execution_count": 5,
   "metadata": {},
   "outputs": [
    {
     "name": "stdout",
     "output_type": "stream",
     "text": [
      "0.89951 0.10048999999999997\n"
     ]
    },
    {
     "data": {
      "image/png": "[encoded data removed]",
      "text/plain": [
       "<Figure size 432x288 with 1 Axes>"
      ]
     },
     "metadata": {
      "needs_background": "light"
     },
     "output_type": "display_data"
    }
   ],
   "source": [
    "a=179902/(179902+20098)\n",
    "b=1-a\n",
    "print(a,b)\n",
    "\n",
    "frequency = ({'0 (89,95%)':179902, '1 (10,05%)':20098})\n",
    "p=plt.bar(frequency.keys(), frequency.values())\n",
    "\n",
    "plt.ylabel('proportion of transactions')\n",
    "plt.title('Transactions made by clients')\n",
    "\n",
    "p[0].set_color('r')\n",
    "p[1].set_color('g')"
   ]
  },
  {
   "cell_type": "markdown",
   "metadata": {},
   "source": [
    "# Data transformation and Feature engineering"
   ]
  },
  {
   "cell_type": "code",
   "execution_count": 18,
   "metadata": {},
   "outputs": [
    {
     "data": {
      "text/plain": [
       "Text(0.5, 1.0, 'Distribution of means of features')"
      ]
     },
     "execution_count": 18,
     "metadata": {},
     "output_type": "execute_result"
    },
    {
     "data": {
      "image/png": "[encoded data removed]",
      "text/plain": [
       "<Figure size 432x288 with 1 Axes>"
      ]
     },
     "metadata": {},
     "output_type": "display_data"
    }
   ],
   "source": [
    "means=[]\n",
    "for i in data.columns.values[2:202]:\n",
    "    means.append(data[i].values.mean())\n",
    "\n",
    "sns.set(color_codes=True)\n",
    "sns.distplot(means).set_title('Distribution of means of features')"
   ]
  },
  {
   "cell_type": "code",
   "execution_count": 7,
   "metadata": {},
   "outputs": [],
   "source": [
    "X_train, X_test, y_train, y_test = train_test_split(X, y, test_size = 0.3, random_state = 0)"
   ]
  },
  {
   "cell_type": "code",
   "execution_count": 8,
   "metadata": {},
   "outputs": [],
   "source": [
    "sc = StandardScaler()\n",
    "X_train = sc.fit_transform(X_train)\n",
    "X_test = sc.transform(X_test)"
   ]
  },
  {
   "cell_type": "code",
   "execution_count": 45,
   "metadata": {},
   "outputs": [
    {
     "data": {
      "text/plain": [
       "array([[-0.57710174, -1.27373702,  0.45170728, ..., -0.37396811,\n",
       "        -1.02639785,  0.21413482],\n",
       "       [ 0.26995857, -0.62213756,  1.19036045, ..., -0.12939961,\n",
       "         0.82541712,  0.50568523],\n",
       "       [-0.68111341, -0.2760664 ,  0.51698836, ..., -0.69514059,\n",
       "        -0.38144932,  0.35668144],\n",
       "       ...,\n",
       "       [ 0.17870987, -0.84546901, -0.07667568, ..., -0.20904171,\n",
       "        -0.67680579,  0.72102365],\n",
       "       [-0.31746727, -1.72398014,  1.09630117, ...,  1.22180338,\n",
       "        -0.11352617, -1.01298853],\n",
       "       [ 0.06456676, -1.00810962,  0.53130173, ..., -0.78389704,\n",
       "        -1.24290845,  0.33196403]])"
      ]
     },
     "execution_count": 45,
     "metadata": {},
     "output_type": "execute_result"
    }
   ],
   "source": [
    "X_train"
   ]
  },
  {
   "cell_type": "markdown",
   "metadata": {},
   "source": [
    "# First models tried"
   ]
  },
  {
   "cell_type": "code",
   "execution_count": 9,
   "metadata": {},
   "outputs": [],
   "source": [
    "models = {\n",
    "          'LogisticRegression' : LogisticRegression(),\n",
    "          #'KNeighborsClassifier': KNeighborsClassifier()\n",
    "          #'SVM' : SVC(kernel = 'linear', verbose=True),\n",
    "          #'Kernel SVM' : SVC(kernel = 'rbf', verbose=True),\n",
    "          'Naive Bayes' : GaussianNB(),\n",
    "          'Decision Tree' : DecisionTreeClassifier(criterion = 'entropy'),\n",
    "          'Random Forest' : RandomForestClassifier(n_estimators = 20, verbose=True)}"
   ]
  },
  {
   "cell_type": "code",
   "execution_count": 10,
   "metadata": {},
   "outputs": [
    {
     "name": "stdout",
     "output_type": "stream",
     "text": [
      "LogisticRegression :\n",
      "<sklearn.metrics._plot.confusion_matrix.ConfusionMatrixDisplay object at 0x00000167021D3508>\n",
      "Naive Bayes :\n",
      "<sklearn.metrics._plot.confusion_matrix.ConfusionMatrixDisplay object at 0x00000167021D3588>\n",
      "Logistic Regression : 0.91265\n",
      "Naive Bayes 0.9194333333333333\n"
     ]
    },
    {
     "data": {
      "image/png": "[encoded data removed]",
      "text/plain": [
       "<Figure size 432x288 with 2 Axes>"
      ]
     },
     "metadata": {},
     "output_type": "display_data"
    },
    {
     "data": {
      "image/png": "[encoded data removed]",
      "text/plain": [
       "<Figure size 432x288 with 2 Axes>"
      ]
     },
     "metadata": {},
     "output_type": "display_data"
    }
   ],
   "source": [
    "scores = []\n",
    "i=0\n",
    "for model in models.keys(): \n",
    "    classifier = models[model]\n",
    "    classifier.fit(X_train, y_train)\n",
    "    y_pred = classifier.predict(X_test)\n",
    "    scores.append(accuracy_score(y_test, y_pred))\n",
    "    conf_mat = plot_confusion_matrix(classifier, X_test, y_test, labels=[0,1])\n",
    "    print(model, ':', scores[i])\n",
    "    print(conf_mat)\n",
    "    i+=1"
   ]
  },
  {
   "cell_type": "code",
   "execution_count": 42,
   "metadata": {
    "collapsed": true
   },
   "outputs": [
    {
     "name": "stdout",
     "output_type": "stream",
     "text": [
      "      Iter       Train Loss   Remaining Time \n",
      "         1           0.6473           43.32m\n",
      "         2           0.6436           43.94m\n",
      "         3           0.6405           43.37m\n",
      "         4           0.6374           43.49m\n",
      "         5           0.6346           43.05m\n",
      "         6           0.6320           43.00m\n",
      "         7           0.6295           42.24m\n",
      "         8           0.6272           41.60m\n",
      "         9           0.6248           41.28m\n",
      "        10           0.6226           41.46m\n",
      "        11           0.6205           40.95m\n",
      "        12           0.6183           40.47m\n",
      "        13           0.6162           40.17m\n",
      "        14           0.6142           39.92m\n",
      "        15           0.6122           40.03m\n",
      "        16           0.6103           39.87m\n",
      "        17           0.6083           39.63m\n",
      "        18           0.6065           39.15m\n",
      "        19           0.6045           37.76m\n",
      "        20           0.6029           36.45m\n",
      "        21           0.6011           35.25m\n",
      "        22           0.5993           34.12m\n",
      "        23           0.5976           33.08m\n",
      "        24           0.5959           32.12m\n",
      "        25           0.5943           31.19m\n",
      "        26           0.5927           30.31m\n",
      "        27           0.5912           29.48m\n",
      "        28           0.5896           28.70m\n",
      "        29           0.5880           27.94m\n",
      "        30           0.5866           27.23m\n",
      "        31           0.5850           26.54m\n",
      "        32           0.5836           25.89m\n",
      "        33           0.5822           25.26m\n",
      "        34           0.5808           24.64m\n",
      "        35           0.5795           24.48m\n",
      "        36           0.5782           23.89m\n",
      "        37           0.5769           23.32m\n",
      "        38           0.5755           22.76m\n",
      "        39           0.5743           22.22m\n",
      "        40           0.5729           21.70m\n",
      "        41           0.5717           21.18m\n",
      "        42           0.5705           20.68m\n",
      "        43           0.5693           20.19m\n",
      "        44           0.5680           19.71m\n",
      "        45           0.5668           19.23m\n",
      "        46           0.5656           18.78m\n",
      "        47           0.5645           18.32m\n",
      "        48           0.5633           17.88m\n",
      "        49           0.5622           17.44m\n",
      "        50           0.5610           17.01m\n",
      "        51           0.5598           16.59m\n",
      "        52           0.5587           16.17m\n",
      "        53           0.5576           15.77m\n",
      "        54           0.5564           15.37m\n",
      "        55           0.5555           14.96m\n",
      "        56           0.5544           14.57m\n",
      "        57           0.5533           14.18m\n",
      "        58           0.5523           13.80m\n",
      "        59           0.5513           13.42m\n",
      "        60           0.5503           13.04m\n",
      "        61           0.5492           12.67m\n",
      "        62           0.5483           12.30m\n",
      "        63           0.5473           11.94m\n",
      "        64           0.5463           11.58m\n",
      "        65           0.5454           11.22m\n",
      "        66           0.5443           10.87m\n",
      "        67           0.5434           10.53m\n",
      "        68           0.5424           10.19m\n",
      "        69           0.5415            9.85m\n",
      "        70           0.5406            9.50m\n",
      "        71           0.5397            9.16m\n",
      "        72           0.5389            8.82m\n",
      "        73           0.5381            8.48m\n",
      "        74           0.5372            8.15m\n",
      "        75           0.5363            7.82m\n",
      "        76           0.5354            7.49m\n",
      "        77           0.5345            7.16m\n",
      "        78           0.5336            6.84m\n",
      "        79           0.5328            6.51m\n",
      "        80           0.5319            6.19m\n",
      "        81           0.5311            5.87m\n",
      "        82           0.5303            5.55m\n",
      "        83           0.5295            5.23m\n",
      "        84           0.5286            4.91m\n",
      "        85           0.5277            4.60m\n",
      "        86           0.5268            4.28m\n",
      "        87           0.5261            3.97m\n",
      "        88           0.5253            3.66m\n",
      "        89           0.5245            3.35m\n",
      "        90           0.5236            3.04m\n",
      "        91           0.5229            2.73m\n",
      "        92           0.5222            2.42m\n",
      "        93           0.5214            2.12m\n",
      "        94           0.5207            1.81m\n",
      "        95           0.5200            1.51m\n",
      "        96           0.5193            1.21m\n",
      "        97           0.5185           54.24s\n",
      "        98           0.5178           36.10s\n",
      "        99           0.5171           18.02s\n",
      "       100           0.5164            0.00s\n"
     ]
    },
    {
     "ename": "ValueError",
     "evalue": "Found input variables with inconsistent numbers of samples: [20000, 200000]",
     "output_type": "error",
     "traceback": [
      "\u001b[1;31m---------------------------------------------------------------------------\u001b[0m",
      "\u001b[1;31mValueError\u001b[0m                                Traceback (most recent call last)",
      "\u001b[1;32m<ipython-input-42-4e1ba61c118c>\u001b[0m in \u001b[0;36m<module>\u001b[1;34m\u001b[0m\n\u001b[0;32m      2\u001b[0m \u001b[0mmodel_GBM\u001b[0m\u001b[1;33m.\u001b[0m\u001b[0mfit\u001b[0m\u001b[1;33m(\u001b[0m\u001b[0mX_train\u001b[0m\u001b[1;33m,\u001b[0m \u001b[0my_train\u001b[0m\u001b[1;33m)\u001b[0m\u001b[1;33m\u001b[0m\u001b[1;33m\u001b[0m\u001b[0m\n\u001b[0;32m      3\u001b[0m \u001b[0my_pred_GBM\u001b[0m \u001b[1;33m=\u001b[0m \u001b[0mmodel_GBM\u001b[0m\u001b[1;33m.\u001b[0m\u001b[0mpredict\u001b[0m\u001b[1;33m(\u001b[0m\u001b[0mX_test\u001b[0m\u001b[1;33m)\u001b[0m\u001b[1;33m\u001b[0m\u001b[1;33m\u001b[0m\u001b[0m\n\u001b[1;32m----> 4\u001b[1;33m \u001b[0mscore_GBM\u001b[0m \u001b[1;33m=\u001b[0m \u001b[0maccuracy_score\u001b[0m\u001b[1;33m(\u001b[0m\u001b[0my_test\u001b[0m\u001b[1;33m,\u001b[0m \u001b[0my_pred_GBM\u001b[0m\u001b[1;33m)\u001b[0m\u001b[1;33m\u001b[0m\u001b[1;33m\u001b[0m\u001b[0m\n\u001b[0m\u001b[0;32m      5\u001b[0m \u001b[0mprint\u001b[0m\u001b[1;33m(\u001b[0m\u001b[1;34mf\"Accuracy: {score_GBM* 100:.2f}%\"\u001b[0m\u001b[1;33m)\u001b[0m\u001b[1;33m\u001b[0m\u001b[1;33m\u001b[0m\u001b[0m\n",
      "\u001b[1;32m~\\.conda\\envs\\DL\\lib\\site-packages\\sklearn\\metrics\\_classification.py\u001b[0m in \u001b[0;36maccuracy_score\u001b[1;34m(y_true, y_pred, normalize, sample_weight)\u001b[0m\n\u001b[0;32m    183\u001b[0m \u001b[1;33m\u001b[0m\u001b[0m\n\u001b[0;32m    184\u001b[0m     \u001b[1;31m# Compute accuracy for each possible representation\u001b[0m\u001b[1;33m\u001b[0m\u001b[1;33m\u001b[0m\u001b[1;33m\u001b[0m\u001b[0m\n\u001b[1;32m--> 185\u001b[1;33m     \u001b[0my_type\u001b[0m\u001b[1;33m,\u001b[0m \u001b[0my_true\u001b[0m\u001b[1;33m,\u001b[0m \u001b[0my_pred\u001b[0m \u001b[1;33m=\u001b[0m \u001b[0m_check_targets\u001b[0m\u001b[1;33m(\u001b[0m\u001b[0my_true\u001b[0m\u001b[1;33m,\u001b[0m \u001b[0my_pred\u001b[0m\u001b[1;33m)\u001b[0m\u001b[1;33m\u001b[0m\u001b[1;33m\u001b[0m\u001b[0m\n\u001b[0m\u001b[0;32m    186\u001b[0m     \u001b[0mcheck_consistent_length\u001b[0m\u001b[1;33m(\u001b[0m\u001b[0my_true\u001b[0m\u001b[1;33m,\u001b[0m \u001b[0my_pred\u001b[0m\u001b[1;33m,\u001b[0m \u001b[0msample_weight\u001b[0m\u001b[1;33m)\u001b[0m\u001b[1;33m\u001b[0m\u001b[1;33m\u001b[0m\u001b[0m\n\u001b[0;32m    187\u001b[0m     \u001b[1;32mif\u001b[0m \u001b[0my_type\u001b[0m\u001b[1;33m.\u001b[0m\u001b[0mstartswith\u001b[0m\u001b[1;33m(\u001b[0m\u001b[1;34m'multilabel'\u001b[0m\u001b[1;33m)\u001b[0m\u001b[1;33m:\u001b[0m\u001b[1;33m\u001b[0m\u001b[1;33m\u001b[0m\u001b[0m\n",
      "\u001b[1;32m~\\.conda\\envs\\DL\\lib\\site-packages\\sklearn\\metrics\\_classification.py\u001b[0m in \u001b[0;36m_check_targets\u001b[1;34m(y_true, y_pred)\u001b[0m\n\u001b[0;32m     78\u001b[0m     \u001b[0my_pred\u001b[0m \u001b[1;33m:\u001b[0m \u001b[0marray\u001b[0m \u001b[1;32mor\u001b[0m \u001b[0mindicator\u001b[0m \u001b[0mmatrix\u001b[0m\u001b[1;33m\u001b[0m\u001b[1;33m\u001b[0m\u001b[0m\n\u001b[0;32m     79\u001b[0m     \"\"\"\n\u001b[1;32m---> 80\u001b[1;33m     \u001b[0mcheck_consistent_length\u001b[0m\u001b[1;33m(\u001b[0m\u001b[0my_true\u001b[0m\u001b[1;33m,\u001b[0m \u001b[0my_pred\u001b[0m\u001b[1;33m)\u001b[0m\u001b[1;33m\u001b[0m\u001b[1;33m\u001b[0m\u001b[0m\n\u001b[0m\u001b[0;32m     81\u001b[0m     \u001b[0mtype_true\u001b[0m \u001b[1;33m=\u001b[0m \u001b[0mtype_of_target\u001b[0m\u001b[1;33m(\u001b[0m\u001b[0my_true\u001b[0m\u001b[1;33m)\u001b[0m\u001b[1;33m\u001b[0m\u001b[1;33m\u001b[0m\u001b[0m\n\u001b[0;32m     82\u001b[0m     \u001b[0mtype_pred\u001b[0m \u001b[1;33m=\u001b[0m \u001b[0mtype_of_target\u001b[0m\u001b[1;33m(\u001b[0m\u001b[0my_pred\u001b[0m\u001b[1;33m)\u001b[0m\u001b[1;33m\u001b[0m\u001b[1;33m\u001b[0m\u001b[0m\n",
      "\u001b[1;32m~\\.conda\\envs\\DL\\lib\\site-packages\\sklearn\\utils\\validation.py\u001b[0m in \u001b[0;36mcheck_consistent_length\u001b[1;34m(*arrays)\u001b[0m\n\u001b[0;32m    210\u001b[0m     \u001b[1;32mif\u001b[0m \u001b[0mlen\u001b[0m\u001b[1;33m(\u001b[0m\u001b[0muniques\u001b[0m\u001b[1;33m)\u001b[0m \u001b[1;33m>\u001b[0m \u001b[1;36m1\u001b[0m\u001b[1;33m:\u001b[0m\u001b[1;33m\u001b[0m\u001b[1;33m\u001b[0m\u001b[0m\n\u001b[0;32m    211\u001b[0m         raise ValueError(\"Found input variables with inconsistent numbers of\"\n\u001b[1;32m--> 212\u001b[1;33m                          \" samples: %r\" % [int(l) for l in lengths])\n\u001b[0m\u001b[0;32m    213\u001b[0m \u001b[1;33m\u001b[0m\u001b[0m\n\u001b[0;32m    214\u001b[0m \u001b[1;33m\u001b[0m\u001b[0m\n",
      "\u001b[1;31mValueError\u001b[0m: Found input variables with inconsistent numbers of samples: [20000, 200000]"
     ]
    }
   ],
   "source": [
    "model_GBM = GradientBoostingClassifier(verbose=2)\n",
    "model_GBM.fit(X_train, y_train)\n",
    "y_pred_GBM = model_GBM.predict(X_test)    \n",
    "score_GBM = accuracy_score(y_test, y_pred_GBM)\n",
    "print(f\"Accuracy: {score_GBM* 100:.2f}%\")"
   ]
  },
  {
   "cell_type": "code",
   "execution_count": 11,
   "metadata": {},
   "outputs": [
    {
     "data": {
      "text/plain": [
       "array([[53855,    31],\n",
       "       [ 5910,   204]], dtype=int64)"
      ]
     },
     "execution_count": 11,
     "metadata": {},
     "output_type": "execute_result"
    }
   ],
   "source": [
    "conf_mat_GBM = confusion_matrix(y_test, y_pred_GBM, labels=[0,1])"
   ]
  },
  {
   "cell_type": "code",
   "execution_count": 7,
   "metadata": {
    "collapsed": true
   },
   "outputs": [
    {
     "name": "stdout",
     "output_type": "stream",
     "text": [
      "Iteration 1, loss = 0.27962998\n",
      "Iteration 2, loss = 0.23649906\n",
      "Iteration 3, loss = 0.22753833\n",
      "Iteration 4, loss = 0.22086899\n",
      "Iteration 5, loss = 0.21404869\n",
      "Iteration 6, loss = 0.20654862\n",
      "Iteration 7, loss = 0.19976107\n",
      "Iteration 8, loss = 0.19329478\n",
      "Iteration 9, loss = 0.18758654\n",
      "Iteration 10, loss = 0.18264303\n",
      "Iteration 11, loss = 0.17833980\n",
      "Iteration 12, loss = 0.17504075\n",
      "Iteration 13, loss = 0.17145626\n",
      "Iteration 14, loss = 0.16843366\n",
      "Iteration 15, loss = 0.16526745\n",
      "Iteration 16, loss = 0.16316842\n",
      "Iteration 17, loss = 0.16052698\n",
      "Iteration 18, loss = 0.15901830\n",
      "Iteration 19, loss = 0.15678956\n",
      "Iteration 20, loss = 0.15529839\n",
      "Iteration 21, loss = 0.15391911\n",
      "Iteration 22, loss = 0.15218865\n",
      "Iteration 23, loss = 0.15032577\n",
      "Iteration 24, loss = 0.14898248\n",
      "Iteration 25, loss = 0.14769557\n",
      "Iteration 26, loss = 0.14626889\n",
      "Iteration 27, loss = 0.14535448\n",
      "Iteration 28, loss = 0.14406576\n",
      "Iteration 29, loss = 0.14287087\n",
      "Iteration 30, loss = 0.14226207\n",
      "Iteration 31, loss = 0.14078655\n",
      "Iteration 32, loss = 0.13973818\n",
      "Iteration 33, loss = 0.13879621\n",
      "Iteration 34, loss = 0.13805456\n",
      "Iteration 35, loss = 0.13714079\n",
      "Iteration 36, loss = 0.13572826\n",
      "Iteration 37, loss = 0.13558841\n",
      "Iteration 38, loss = 0.13436551\n",
      "Iteration 39, loss = 0.13365690\n",
      "Iteration 40, loss = 0.13255339\n",
      "Iteration 41, loss = 0.13165690\n",
      "Iteration 42, loss = 0.13101706\n",
      "Iteration 43, loss = 0.13048468\n",
      "Iteration 44, loss = 0.12942149\n",
      "Iteration 45, loss = 0.12862586\n",
      "Iteration 46, loss = 0.12804865\n",
      "Iteration 47, loss = 0.12710623\n",
      "Iteration 48, loss = 0.12669876\n",
      "Iteration 49, loss = 0.12567066\n",
      "Iteration 50, loss = 0.12570689\n",
      "Iteration 51, loss = 0.12477629\n",
      "Iteration 52, loss = 0.12396815\n",
      "Iteration 53, loss = 0.12351752\n",
      "Iteration 54, loss = 0.12318885\n",
      "Iteration 55, loss = 0.12224121\n",
      "Iteration 56, loss = 0.12143980\n",
      "Iteration 57, loss = 0.12078416\n",
      "Iteration 58, loss = 0.12057871\n",
      "Iteration 59, loss = 0.11990837\n",
      "Iteration 60, loss = 0.11899383\n",
      "Iteration 61, loss = 0.11893080\n",
      "Iteration 62, loss = 0.11821727\n",
      "Iteration 63, loss = 0.11760387\n",
      "Iteration 64, loss = 0.11748281\n",
      "Iteration 65, loss = 0.11698914\n",
      "Iteration 66, loss = 0.11619607\n",
      "Iteration 67, loss = 0.11557708\n",
      "Iteration 68, loss = 0.11537501\n",
      "Iteration 69, loss = 0.11469469\n",
      "Iteration 70, loss = 0.11454881\n",
      "Iteration 71, loss = 0.11444582\n",
      "Iteration 72, loss = 0.11320186\n",
      "Iteration 73, loss = 0.11297806\n",
      "Iteration 74, loss = 0.11260723\n",
      "Iteration 75, loss = 0.11248703\n",
      "Iteration 76, loss = 0.11116542\n",
      "Iteration 77, loss = 0.11158587\n",
      "Iteration 78, loss = 0.11070679\n",
      "Iteration 79, loss = 0.11057994\n",
      "Iteration 80, loss = 0.10967885\n",
      "Iteration 81, loss = 0.10916124\n",
      "Iteration 82, loss = 0.10916297\n",
      "Iteration 83, loss = 0.10894725\n",
      "Iteration 84, loss = 0.10818202\n",
      "Iteration 85, loss = 0.10781381\n",
      "Iteration 86, loss = 0.10731686\n",
      "Iteration 87, loss = 0.10715585\n",
      "Iteration 88, loss = 0.10681614\n",
      "Iteration 89, loss = 0.10581960\n",
      "Iteration 90, loss = 0.10592287\n",
      "Iteration 91, loss = 0.10572442\n",
      "Iteration 92, loss = 0.10487813\n",
      "Iteration 93, loss = 0.10475027\n",
      "Iteration 94, loss = 0.10453128\n",
      "Iteration 95, loss = 0.10378086\n",
      "Iteration 96, loss = 0.10351259\n",
      "Iteration 97, loss = 0.10333145\n",
      "Iteration 98, loss = 0.10293006\n",
      "Iteration 99, loss = 0.10200202\n",
      "Iteration 100, loss = 0.10253439\n",
      "Iteration 101, loss = 0.10207802\n",
      "Iteration 102, loss = 0.10130916\n",
      "Iteration 103, loss = 0.10142758\n",
      "Iteration 104, loss = 0.10034705\n",
      "Iteration 105, loss = 0.10044811\n",
      "Iteration 106, loss = 0.09997066\n",
      "Iteration 107, loss = 0.10023692\n",
      "Iteration 108, loss = 0.09978469\n",
      "Iteration 109, loss = 0.09909459\n",
      "Iteration 110, loss = 0.09869191\n",
      "Iteration 111, loss = 0.09870874\n",
      "Iteration 112, loss = 0.09820172\n",
      "Iteration 113, loss = 0.09815167\n",
      "Iteration 114, loss = 0.09760218\n",
      "Iteration 115, loss = 0.09718880\n",
      "Iteration 116, loss = 0.09695462\n",
      "Iteration 117, loss = 0.09690562\n",
      "Iteration 118, loss = 0.09637679\n",
      "Iteration 119, loss = 0.09632425\n",
      "Iteration 120, loss = 0.09596412\n",
      "Iteration 121, loss = 0.09550910\n",
      "Iteration 122, loss = 0.09540065\n",
      "Iteration 123, loss = 0.09490047\n",
      "Iteration 124, loss = 0.09452837\n",
      "Iteration 125, loss = 0.09472158\n",
      "Iteration 126, loss = 0.09405320\n",
      "Iteration 127, loss = 0.09391508\n",
      "Iteration 128, loss = 0.09349976\n",
      "Iteration 129, loss = 0.09320063\n",
      "Iteration 130, loss = 0.09249846\n",
      "Iteration 131, loss = 0.09258472\n",
      "Iteration 132, loss = 0.09243255\n",
      "Iteration 133, loss = 0.09226079\n",
      "Iteration 134, loss = 0.09150867\n",
      "Iteration 135, loss = 0.09183007\n",
      "Iteration 136, loss = 0.09123264\n",
      "Iteration 137, loss = 0.09103155\n",
      "Iteration 138, loss = 0.09049517\n",
      "Iteration 139, loss = 0.09025434\n",
      "Iteration 140, loss = 0.08978591\n",
      "Iteration 141, loss = 0.09016567\n",
      "Iteration 142, loss = 0.08916005\n",
      "Iteration 143, loss = 0.08950706\n",
      "Iteration 144, loss = 0.08914512\n",
      "Iteration 145, loss = 0.08842052\n",
      "Iteration 146, loss = 0.08877061\n",
      "Iteration 147, loss = 0.08859731\n",
      "Iteration 148, loss = 0.08812358\n",
      "Iteration 149, loss = 0.08731120\n",
      "Iteration 150, loss = 0.08732174\n",
      "Iteration 151, loss = 0.08747481\n",
      "Iteration 152, loss = 0.08740728\n",
      "Iteration 153, loss = 0.08646683\n",
      "Iteration 154, loss = 0.08666535\n",
      "Iteration 155, loss = 0.08649562\n",
      "Iteration 156, loss = 0.08627385\n",
      "Iteration 157, loss = 0.08620489\n",
      "Iteration 158, loss = 0.08568998\n",
      "Iteration 159, loss = 0.08542606\n",
      "Iteration 160, loss = 0.08485399\n",
      "Iteration 161, loss = 0.08478948\n",
      "Iteration 162, loss = 0.08445498\n",
      "Iteration 163, loss = 0.08417327\n",
      "Iteration 164, loss = 0.08477301\n",
      "Iteration 165, loss = 0.08356460\n",
      "Iteration 166, loss = 0.08396847\n",
      "Iteration 167, loss = 0.08341063\n",
      "Iteration 168, loss = 0.08302249\n",
      "Iteration 169, loss = 0.08320287\n",
      "Iteration 170, loss = 0.08254408\n",
      "Iteration 171, loss = 0.08246944\n",
      "Iteration 172, loss = 0.08220789\n",
      "Iteration 173, loss = 0.08223224\n",
      "Iteration 174, loss = 0.08164855\n",
      "Iteration 175, loss = 0.08186009\n",
      "Iteration 176, loss = 0.08123240\n",
      "Iteration 177, loss = 0.08136523\n",
      "Iteration 178, loss = 0.08046172\n",
      "Iteration 179, loss = 0.08081978\n",
      "Iteration 180, loss = 0.08062884\n",
      "Iteration 181, loss = 0.08053322\n",
      "Iteration 182, loss = 0.07973499\n",
      "Iteration 183, loss = 0.07983443\n",
      "Iteration 184, loss = 0.08008171\n",
      "Iteration 185, loss = 0.07890289\n",
      "Iteration 186, loss = 0.07921859\n",
      "Iteration 187, loss = 0.07891639\n",
      "Iteration 188, loss = 0.07850806\n",
      "Iteration 189, loss = 0.07847658\n",
      "Iteration 190, loss = 0.07838123\n",
      "Iteration 191, loss = 0.07827595\n",
      "Iteration 192, loss = 0.07829449\n",
      "Iteration 193, loss = 0.07746633\n",
      "Iteration 194, loss = 0.07702863\n",
      "Iteration 195, loss = 0.07722213\n",
      "Iteration 196, loss = 0.07737562\n",
      "Iteration 197, loss = 0.07664363\n",
      "Iteration 198, loss = 0.07644538\n",
      "Iteration 199, loss = 0.07656752\n",
      "Iteration 200, loss = 0.07612538\n"
     ]
    },
    {
     "name": "stderr",
     "output_type": "stream",
     "text": [
      "C:\\Users\\julie\\.conda\\envs\\DL\\lib\\site-packages\\sklearn\\neural_network\\_multilayer_perceptron.py:571: ConvergenceWarning: Stochastic Optimizer: Maximum iterations (200) reached and the optimization hasn't converged yet.\n",
      "  % self.max_iter, ConvergenceWarning)\n"
     ]
    },
    {
     "ename": "NameError",
     "evalue": "name 'model_MLP' is not defined",
     "output_type": "error",
     "traceback": [
      "\u001b[1;31m---------------------------------------------------------------------------\u001b[0m",
      "\u001b[1;31mNameError\u001b[0m                                 Traceback (most recent call last)",
      "\u001b[1;32m<ipython-input-7-7d9369854e53>\u001b[0m in \u001b[0;36m<module>\u001b[1;34m\u001b[0m\n\u001b[0;32m      1\u001b[0m \u001b[0mMLP\u001b[0m \u001b[1;33m=\u001b[0m \u001b[0mMLPClassifier\u001b[0m\u001b[1;33m(\u001b[0m\u001b[0mverbose\u001b[0m\u001b[1;33m=\u001b[0m\u001b[1;32mTrue\u001b[0m\u001b[1;33m)\u001b[0m\u001b[1;33m\u001b[0m\u001b[1;33m\u001b[0m\u001b[0m\n\u001b[0;32m      2\u001b[0m \u001b[0mMLP\u001b[0m\u001b[1;33m.\u001b[0m\u001b[0mfit\u001b[0m\u001b[1;33m(\u001b[0m\u001b[0mX_train\u001b[0m\u001b[1;33m,\u001b[0m \u001b[0my_train\u001b[0m\u001b[1;33m)\u001b[0m\u001b[1;33m\u001b[0m\u001b[1;33m\u001b[0m\u001b[0m\n\u001b[1;32m----> 3\u001b[1;33m \u001b[0my_pred_MLP\u001b[0m \u001b[1;33m=\u001b[0m \u001b[0mmodel_MLP\u001b[0m\u001b[1;33m.\u001b[0m\u001b[0mpredict\u001b[0m\u001b[1;33m(\u001b[0m\u001b[0mX_test\u001b[0m\u001b[1;33m)\u001b[0m\u001b[1;33m\u001b[0m\u001b[1;33m\u001b[0m\u001b[0m\n\u001b[0m\u001b[0;32m      4\u001b[0m \u001b[0mscore_MLP\u001b[0m \u001b[1;33m=\u001b[0m \u001b[0maccuracy_score\u001b[0m\u001b[1;33m(\u001b[0m\u001b[0my_test\u001b[0m\u001b[1;33m,\u001b[0m \u001b[0my_pred_GBM\u001b[0m\u001b[1;33m)\u001b[0m\u001b[1;33m\u001b[0m\u001b[1;33m\u001b[0m\u001b[0m\n\u001b[0;32m      5\u001b[0m \u001b[0mprint\u001b[0m\u001b[1;33m(\u001b[0m\u001b[1;34mf\"Accuracy: {score_MLP* 100:.2f}%\"\u001b[0m\u001b[1;33m)\u001b[0m\u001b[1;33m\u001b[0m\u001b[1;33m\u001b[0m\u001b[0m\n",
      "\u001b[1;31mNameError\u001b[0m: name 'model_MLP' is not defined"
     ]
    }
   ],
   "source": [
    "MLP = MLPClassifier(verbose=True)\n",
    "MLP.fit(X_train, y_train)"
   ]
  },
  {
   "cell_type": "code",
   "execution_count": 9,
   "metadata": {},
   "outputs": [
    {
     "name": "stdout",
     "output_type": "stream",
     "text": [
      "Accuracy: 86.39%\n",
      "[[49572  4314]\n",
      " [ 3850  2264]]\n"
     ]
    }
   ],
   "source": [
    "y_pred_MLP = MLP.predict(X_test)    \n",
    "score_MLP = accuracy_score(y_test, y_pred_MLP)\n",
    "print(f\"Accuracy: {score_MLP* 100:.2f}%\")\n",
    "conf_mat_MLP = confusion_matrix(y_test, y_pred_MLP, labels=[0,1])\n",
    "print(conf_mat_MLP)"
   ]
  },
  {
   "cell_type": "markdown",
   "metadata": {},
   "source": [
    "# Hyperparameters optimization"
   ]
  },
  {
   "cell_type": "code",
   "execution_count": null,
   "metadata": {},
   "outputs": [],
   "source": [
    "n_estimators = [int(x) for x in np.linspace(start = 5, stop = 200, num = 50)]\n",
    "max_features = ['auto']\n",
    "max_depth = [int(x) for x in np.linspace(2, 22, num = 10)]\n",
    "max_depth.append(None)\n",
    "min_samples_split = [2, 5, 8]\n",
    "min_samples_leaf = [1, 2, 5]\n",
    "bootstrap = [True]\n",
    "criterion = ['entropy']\n",
    "\n",
    "random_grid = {'n_estimators': n_estimators,\n",
    "                   'max_features': max_features,\n",
    "                   'max_depth': max_depth,\n",
    "                   'min_samples_split': min_samples_split,\n",
    "                   'min_samples_leaf': min_samples_leaf,\n",
    "                   'bootstrap': bootstrap,\n",
    "                   'criterion' : criterion}\n",
    "\n",
    "rf = RandomForestClassifier()\n",
    "model_rf = RandomizedSearchCV(estimator = rf, param_distributions = random_grid, n_iter = 100, cv = 5, verbose=5, \n",
    "                              random_state=42, n_jobs = -1)\n",
    "model_rf.fit(X_train, y_train)\n",
    "y_pred = model_rf.predict(X_test)    \n",
    "score_rf = accuracy_score(y_test, y_pred)"
   ]
  },
  {
   "cell_type": "code",
   "execution_count": 14,
   "metadata": {
    "scrolled": true
   },
   "outputs": [
    {
     "name": "stdout",
     "output_type": "stream",
     "text": [
      "Accuracy: 89.84%\n",
      "{'n_estimators': 20, 'min_samples_split': 5, 'min_samples_leaf': 2, 'max_features': 'auto', 'max_depth': 19, 'criterion': 'entropy', 'bootstrap': True}\n"
     ]
    }
   ],
   "source": [
    "print(f\"Accuracy: {score_rf* 100:.2f}%\")\n",
    "print(model_rf.best_params_)"
   ]
  },
  {
   "cell_type": "code",
   "execution_count": 6,
   "metadata": {},
   "outputs": [
    {
     "name": "stdout",
     "output_type": "stream",
     "text": [
      "Fitting 5 folds for each of 50 candidates, totalling 250 fits\n"
     ]
    },
    {
     "name": "stderr",
     "output_type": "stream",
     "text": [
      "[Parallel(n_jobs=-1)]: Using backend LokyBackend with 8 concurrent workers.\n",
      "[Parallel(n_jobs=-1)]: Done   2 tasks      | elapsed:    1.9s\n",
      "[Parallel(n_jobs=-1)]: Done  56 tasks      | elapsed:  1.5min\n",
      "[Parallel(n_jobs=-1)]: Done 146 tasks      | elapsed:  3.0min\n",
      "[Parallel(n_jobs=-1)]: Done 250 out of 250 | elapsed:  4.3min finished\n"
     ]
    },
    {
     "name": "stdout",
     "output_type": "stream",
     "text": [
      "Accuracy: 91.27%\n",
      "{'solver': 'saga', 'penalty': 'l1', 'multi_class': 'ovr', 'max_iter': 200, 'C': 0.8}\n"
     ]
    }
   ],
   "source": [
    "max_iter = [200]\n",
    "multi_class = ['auto', 'ovr', 'multinomial']\n",
    "solver = ['newton-cg', 'lbfgs', 'liblinear', 'sag', 'saga']\n",
    "penalty = ['l1', 'l2', 'elasticnet', 'none']\n",
    "C = [0.8, 0.6, 0.4]\n",
    "\n",
    "# Create the random grid\n",
    "random_grid_LR = {'max_iter': max_iter,\n",
    "                  'penalty' : penalty,\n",
    "                  'C' : C,\n",
    "                  'multi_class': multi_class,\n",
    "                  'solver':solver}\n",
    "\n",
    "\n",
    "LR = LogisticRegression()\n",
    "model_LR = RandomizedSearchCV(estimator = LR, param_distributions = random_grid_LR, n_iter = 50, cv = 5, \n",
    "                              verbose=5, random_state=42, n_jobs = -1)\n",
    "model_LR.fit(X_train, y_train)\n",
    "y_pred_LR = model_LR.predict(X_test)    \n",
    "score_LR = accuracy_score(y_test, y_pred_LR)\n",
    "print(f\"Accuracy: {score_LR* 100:.2f}%\")\n",
    "print(model_LR.best_params_)"
   ]
  },
  {
   "cell_type": "markdown",
   "metadata": {},
   "source": [
    "# KFold Cross-Validation for best-models"
   ]
  },
  {
   "cell_type": "code",
   "execution_count": 11,
   "metadata": {},
   "outputs": [],
   "source": [
    "X_2 = sc.fit_transform(X)"
   ]
  },
  {
   "cell_type": "code",
   "execution_count": 18,
   "metadata": {},
   "outputs": [
    {
     "name": "stdout",
     "output_type": "stream",
     "text": [
      "Fold 1 - score: 0.9133617327653447\n",
      "Fold 1 - confusion matrix: [[29517   393]\n",
      " [ 2495   929]]\n",
      "Fold 2 - score: 0.9136017279654407\n",
      "Fold 2 - confusion matrix: [[29548   408]\n",
      " [ 2472   906]]\n",
      "Fold 3 - score: 0.9146491464914649\n",
      "Fold 3 - confusion matrix: [[29591   406]\n",
      " [ 2439   897]]\n",
      "Fold 4 - score: 0.9136291362913629\n",
      "Fold 4 - confusion matrix: [[29580   447]\n",
      " [ 2432   874]]\n",
      "Fold 5 - score: 0.9155491554915549\n",
      "Fold 5 - confusion matrix: [[29630   408]\n",
      " [ 2407   888]]\n",
      "Fold 6 - score: 0.915159151591516\n",
      "Fold 6 - confusion matrix: [[29559   415]\n",
      " [ 2413   946]]\n",
      "Average score: 91.43250084327806 %\n"
     ]
    }
   ],
   "source": [
    "scoreslogp2 = []\n",
    "lgp = LogisticRegression(penalty='l1', C=0.8, solver='saga', max_iter=200, multi_class='ovr')\n",
    "cv = KFold(n_splits=6, random_state=42, shuffle=True)\n",
    "i=1\n",
    "for train_index, test_index in cv.split(X_2):\n",
    "    X_train, X_test, y_train, y_test = X_2[train_index], X_2[test_index], y[train_index], y[test_index]\n",
    "    lgp.fit(X_train, y_train)\n",
    "    y_pred = lgp.predict(X_test)\n",
    "    score = accuracy_score(y_test, y_pred)\n",
    "    print('Fold', i, '-', 'score:', score)\n",
    "    scoreslogp2.append(score)\n",
    "    conf_mat = confusion_matrix(y_test, y_pred, labels=[0,1])\n",
    "    print('Fold', i, '- confusion matrix:', conf_mat)\n",
    "    i+=1\n",
    "print('Average score:', np.mean(scoreslogp2)*100, '%')"
   ]
  },
  {
   "cell_type": "code",
   "execution_count": 13,
   "metadata": {},
   "outputs": [
    {
     "data": {
      "text/plain": [
       "<sklearn.metrics._plot.confusion_matrix.ConfusionMatrixDisplay at 0x167024b53c8>"
      ]
     },
     "execution_count": 13,
     "metadata": {},
     "output_type": "execute_result"
    },
    {
     "data": {
      "image/png": "[encoded data removed]",
      "text/plain": [
       "<Figure size 432x288 with 2 Axes>"
      ]
     },
     "metadata": {},
     "output_type": "display_data"
    }
   ],
   "source": [
    "# Test again on X_test\n",
    "lgp3 = LogisticRegression(penalty='l1', C=0.8, solver='saga', max_iter=200, multi_class='ovr')\n",
    "lgp3.fit(X_train, y_train)\n",
    "conf_mat_3 = plot_confusion_matrix(lgp3, X_test, y_test, labels=[0,1])\n",
    "conf_mat_3"
   ]
  },
  {
   "cell_type": "code",
   "execution_count": 14,
   "metadata": {},
   "outputs": [
    {
     "name": "stdout",
     "output_type": "stream",
     "text": [
      "0.914\n"
     ]
    }
   ],
   "source": [
    "y_pred = lgp3.predict(X_test)\n",
    "print(accuracy_score(y_test, y_pred))"
   ]
  },
  {
   "cell_type": "code",
   "execution_count": 19,
   "metadata": {},
   "outputs": [
    {
     "name": "stdout",
     "output_type": "stream",
     "text": [
      "Fold 1 - score: 0.9202315953680926\n",
      "Fold 1 - confusion matrix: [[29407   503]\n",
      " [ 2156  1268]]\n",
      "Fold 2 - score: 0.9208615827683446\n",
      "Fold 2 - confusion matrix: [[29453   503]\n",
      " [ 2135  1243]]\n",
      "Fold 3 - score: 0.9222392223922239\n",
      "Fold 3 - confusion matrix: [[29517   480]\n",
      " [ 2112  1224]]\n",
      "Fold 4 - score: 0.920559205592056\n",
      "Fold 4 - confusion matrix: [[29524   503]\n",
      " [ 2145  1161]]\n",
      "Fold 5 - score: 0.921609216092161\n",
      "Fold 5 - confusion matrix: [[29547   491]\n",
      " [ 2122  1173]]\n",
      "Fold 6 - score: 0.9217292172921729\n",
      "Fold 6 - confusion matrix: [[29489   485]\n",
      " [ 2124  1235]]\n",
      "Average score: 92.12050065841751\n"
     ]
    }
   ],
   "source": [
    "scoresNB = []\n",
    "NB = GaussianNB()\n",
    "cv = KFold(n_splits=6, random_state=42, shuffle=True)\n",
    "i=1\n",
    "for train_index, test_index in cv.split(X_2):\n",
    "    X_train, X_test, y_train, y_test = X_2[train_index], X_2[test_index], y[train_index], y[test_index]\n",
    "    NB.fit(X_train, y_train)\n",
    "    y_pred = NB.predict(X_test)\n",
    "    score = accuracy_score(y_test, y_pred)\n",
    "    print('Fold', i, '-', 'score:', score)\n",
    "    scoresNB.append(score)\n",
    "    conf_mat = confusion_matrix(y_test, y_pred, labels=[0,1])\n",
    "    print('Fold', i, '- confusion matrix:', conf_mat)\n",
    "    i+=1\n",
    "print('Average score:', np.mean(scoresNB)*100)"
   ]
  },
  {
   "cell_type": "code",
   "execution_count": 15,
   "metadata": {},
   "outputs": [
    {
     "name": "stdout",
     "output_type": "stream",
     "text": [
      "Fold 1 - score: 0.89865\n",
      "Fold 1 - confusion matrix: [[17967     0]\n",
      " [ 2027     6]]\n",
      "Fold 2 - score: 0.8968\n",
      "Fold 2 - confusion matrix: [[17935     1]\n",
      " [ 2063     1]]\n",
      "Fold 3 - score: 0.89785\n",
      "Fold 3 - confusion matrix: [[17952     1]\n",
      " [ 2042     5]]\n",
      "Fold 4 - score: 0.90235\n",
      "Fold 4 - confusion matrix: [[18042     0]\n",
      " [ 1953     5]]\n",
      "Fold 5 - score: 0.8982\n",
      "Fold 5 - confusion matrix: [[17963     1]\n",
      " [ 2035     1]]\n",
      "Fold 6 - score: 0.90145\n",
      "Fold 6 - confusion matrix: [[18024     2]\n",
      " [ 1969     5]]\n",
      "Fold 7 - score: 0.90115\n",
      "Fold 7 - confusion matrix: [[18017     0]\n",
      " [ 1977     6]]\n",
      "Fold 8 - score: 0.90245\n",
      "Fold 8 - confusion matrix: [[18049     0]\n",
      " [ 1951     0]]\n",
      "Fold 9 - score: 0.8989\n",
      "Fold 9 - confusion matrix: [[17975     0]\n",
      " [ 2022     3]]\n",
      "Fold 10 - score: 0.89865\n",
      "Fold 10 - confusion matrix: [[17973     0]\n",
      " [ 2027     0]]\n",
      "Average score: 89.96449999999999 %\n"
     ]
    }
   ],
   "source": [
    "scoresrf = []\n",
    "rf=RandomForestClassifier(n_estimators = 20, criterion = 'entropy', min_samples_split=5, min_samples_leaf=2, \n",
    "                          max_features='auto', max_depth=19, bootstrap=True)\n",
    "cv = KFold(n_splits=10, random_state=42, shuffle=True)\n",
    "i=1\n",
    "for train_index, test_index in cv.split(X_2):\n",
    "    X_train, X_test, y_train, y_test = X_2[train_index], X_2[test_index], y[train_index], y[test_index]\n",
    "    rf.fit(X_train, y_train)\n",
    "    y_pred = rf.predict(X_test)\n",
    "    score = accuracy_score(y_test, y_pred)\n",
    "    print('Fold', i, '-', 'score:', score)    \n",
    "    scoresrf.append(score)\n",
    "    conf_mat = confusion_matrix(y_test, y_pred, labels=[0,1])\n",
    "    print('Fold', i, '- confusion matrix:', conf_mat)\n",
    "    i+=1\n",
    "    \n",
    "print('Average score:', np.mean(scoresrf)*100, '%')"
   ]
  },
  {
   "cell_type": "code",
   "execution_count": 21,
   "metadata": {},
   "outputs": [
    {
     "data": {
      "text/plain": [
       "array([0, 0, 0, ..., 0, 0, 0], dtype=int64)"
      ]
     },
     "execution_count": 21,
     "metadata": {},
     "output_type": "execute_result"
    }
   ],
   "source": [
    "rf=RandomForestClassifier(n_estimators = 20, criterion = 'entropy', min_samples_split=5, min_samples_leaf=2, max_features='auto', max_depth=19, bootstrap=True)\n",
    "rf.fit(X_2, y)"
   ]
  },
  {
   "cell_type": "code",
   "execution_count": 55,
   "metadata": {},
   "outputs": [
    {
     "data": {
      "text/html": [
       "<div>\n",
       "<style scoped>\n",
       "    .dataframe tbody tr th:only-of-type {\n",
       "        vertical-align: middle;\n",
       "    }\n",
       "\n",
       "    .dataframe tbody tr th {\n",
       "        vertical-align: top;\n",
       "    }\n",
       "\n",
       "    .dataframe thead th {\n",
       "        text-align: right;\n",
       "    }\n",
       "</style>\n",
       "<table border=\"1\" class=\"dataframe\">\n",
       "  <thead>\n",
       "    <tr style=\"text-align: right;\">\n",
       "      <th></th>\n",
       "      <th>ID_code</th>\n",
       "      <th>var_0</th>\n",
       "      <th>var_1</th>\n",
       "      <th>var_2</th>\n",
       "      <th>var_3</th>\n",
       "      <th>var_4</th>\n",
       "      <th>var_5</th>\n",
       "      <th>var_6</th>\n",
       "      <th>var_7</th>\n",
       "      <th>var_8</th>\n",
       "      <th>...</th>\n",
       "      <th>var_190</th>\n",
       "      <th>var_191</th>\n",
       "      <th>var_192</th>\n",
       "      <th>var_193</th>\n",
       "      <th>var_194</th>\n",
       "      <th>var_195</th>\n",
       "      <th>var_196</th>\n",
       "      <th>var_197</th>\n",
       "      <th>var_198</th>\n",
       "      <th>var_199</th>\n",
       "    </tr>\n",
       "  </thead>\n",
       "  <tbody>\n",
       "    <tr>\n",
       "      <th>0</th>\n",
       "      <td>test_0</td>\n",
       "      <td>11.0656</td>\n",
       "      <td>7.7798</td>\n",
       "      <td>12.9536</td>\n",
       "      <td>9.4292</td>\n",
       "      <td>11.4327</td>\n",
       "      <td>-2.3805</td>\n",
       "      <td>5.8493</td>\n",
       "      <td>18.2675</td>\n",
       "      <td>2.1337</td>\n",
       "      <td>...</td>\n",
       "      <td>-2.1556</td>\n",
       "      <td>11.8495</td>\n",
       "      <td>-1.4300</td>\n",
       "      <td>2.4508</td>\n",
       "      <td>13.7112</td>\n",
       "      <td>2.4669</td>\n",
       "      <td>4.3654</td>\n",
       "      <td>10.7200</td>\n",
       "      <td>15.4722</td>\n",
       "      <td>-8.7197</td>\n",
       "    </tr>\n",
       "    <tr>\n",
       "      <th>1</th>\n",
       "      <td>test_1</td>\n",
       "      <td>8.5304</td>\n",
       "      <td>1.2543</td>\n",
       "      <td>11.3047</td>\n",
       "      <td>5.1858</td>\n",
       "      <td>9.1974</td>\n",
       "      <td>-4.0117</td>\n",
       "      <td>6.0196</td>\n",
       "      <td>18.6316</td>\n",
       "      <td>-4.4131</td>\n",
       "      <td>...</td>\n",
       "      <td>10.6165</td>\n",
       "      <td>8.8349</td>\n",
       "      <td>0.9403</td>\n",
       "      <td>10.1282</td>\n",
       "      <td>15.5765</td>\n",
       "      <td>0.4773</td>\n",
       "      <td>-1.4852</td>\n",
       "      <td>9.8714</td>\n",
       "      <td>19.1293</td>\n",
       "      <td>-20.9760</td>\n",
       "    </tr>\n",
       "    <tr>\n",
       "      <th>2</th>\n",
       "      <td>test_2</td>\n",
       "      <td>5.4827</td>\n",
       "      <td>-10.3581</td>\n",
       "      <td>10.1407</td>\n",
       "      <td>7.0479</td>\n",
       "      <td>10.2628</td>\n",
       "      <td>9.8052</td>\n",
       "      <td>4.8950</td>\n",
       "      <td>20.2537</td>\n",
       "      <td>1.5233</td>\n",
       "      <td>...</td>\n",
       "      <td>-0.7484</td>\n",
       "      <td>10.9935</td>\n",
       "      <td>1.9803</td>\n",
       "      <td>2.1800</td>\n",
       "      <td>12.9813</td>\n",
       "      <td>2.1281</td>\n",
       "      <td>-7.1086</td>\n",
       "      <td>7.0618</td>\n",
       "      <td>19.8956</td>\n",
       "      <td>-23.1794</td>\n",
       "    </tr>\n",
       "    <tr>\n",
       "      <th>3</th>\n",
       "      <td>test_3</td>\n",
       "      <td>8.5374</td>\n",
       "      <td>-1.3222</td>\n",
       "      <td>12.0220</td>\n",
       "      <td>6.5749</td>\n",
       "      <td>8.8458</td>\n",
       "      <td>3.1744</td>\n",
       "      <td>4.9397</td>\n",
       "      <td>20.5660</td>\n",
       "      <td>3.3755</td>\n",
       "      <td>...</td>\n",
       "      <td>9.5702</td>\n",
       "      <td>9.0766</td>\n",
       "      <td>1.6580</td>\n",
       "      <td>3.5813</td>\n",
       "      <td>15.1874</td>\n",
       "      <td>3.1656</td>\n",
       "      <td>3.9567</td>\n",
       "      <td>9.2295</td>\n",
       "      <td>13.0168</td>\n",
       "      <td>-4.2108</td>\n",
       "    </tr>\n",
       "    <tr>\n",
       "      <th>4</th>\n",
       "      <td>test_4</td>\n",
       "      <td>11.7058</td>\n",
       "      <td>-0.1327</td>\n",
       "      <td>14.1295</td>\n",
       "      <td>7.7506</td>\n",
       "      <td>9.1035</td>\n",
       "      <td>-8.5848</td>\n",
       "      <td>6.8595</td>\n",
       "      <td>10.6048</td>\n",
       "      <td>2.9890</td>\n",
       "      <td>...</td>\n",
       "      <td>4.2259</td>\n",
       "      <td>9.1723</td>\n",
       "      <td>1.2835</td>\n",
       "      <td>3.3778</td>\n",
       "      <td>19.5542</td>\n",
       "      <td>-0.2860</td>\n",
       "      <td>-5.1612</td>\n",
       "      <td>7.2882</td>\n",
       "      <td>13.9260</td>\n",
       "      <td>-9.1846</td>\n",
       "    </tr>\n",
       "    <tr>\n",
       "      <th>...</th>\n",
       "      <td>...</td>\n",
       "      <td>...</td>\n",
       "      <td>...</td>\n",
       "      <td>...</td>\n",
       "      <td>...</td>\n",
       "      <td>...</td>\n",
       "      <td>...</td>\n",
       "      <td>...</td>\n",
       "      <td>...</td>\n",
       "      <td>...</td>\n",
       "      <td>...</td>\n",
       "      <td>...</td>\n",
       "      <td>...</td>\n",
       "      <td>...</td>\n",
       "      <td>...</td>\n",
       "      <td>...</td>\n",
       "      <td>...</td>\n",
       "      <td>...</td>\n",
       "      <td>...</td>\n",
       "      <td>...</td>\n",
       "      <td>...</td>\n",
       "    </tr>\n",
       "    <tr>\n",
       "      <th>199995</th>\n",
       "      <td>test_199995</td>\n",
       "      <td>13.1678</td>\n",
       "      <td>1.0136</td>\n",
       "      <td>10.4333</td>\n",
       "      <td>6.7997</td>\n",
       "      <td>8.5974</td>\n",
       "      <td>-4.1641</td>\n",
       "      <td>4.8579</td>\n",
       "      <td>14.7625</td>\n",
       "      <td>-2.7239</td>\n",
       "      <td>...</td>\n",
       "      <td>2.0544</td>\n",
       "      <td>9.6849</td>\n",
       "      <td>4.6734</td>\n",
       "      <td>-1.3660</td>\n",
       "      <td>12.8721</td>\n",
       "      <td>1.2013</td>\n",
       "      <td>-4.6195</td>\n",
       "      <td>9.1568</td>\n",
       "      <td>18.2102</td>\n",
       "      <td>4.8801</td>\n",
       "    </tr>\n",
       "    <tr>\n",
       "      <th>199996</th>\n",
       "      <td>test_199996</td>\n",
       "      <td>9.7171</td>\n",
       "      <td>-9.1462</td>\n",
       "      <td>7.3443</td>\n",
       "      <td>9.1421</td>\n",
       "      <td>12.8936</td>\n",
       "      <td>3.0191</td>\n",
       "      <td>5.6888</td>\n",
       "      <td>18.8862</td>\n",
       "      <td>5.0915</td>\n",
       "      <td>...</td>\n",
       "      <td>5.0071</td>\n",
       "      <td>6.6548</td>\n",
       "      <td>1.8197</td>\n",
       "      <td>2.4104</td>\n",
       "      <td>18.9037</td>\n",
       "      <td>-0.9337</td>\n",
       "      <td>2.9995</td>\n",
       "      <td>9.1112</td>\n",
       "      <td>18.1740</td>\n",
       "      <td>-20.7689</td>\n",
       "    </tr>\n",
       "    <tr>\n",
       "      <th>199997</th>\n",
       "      <td>test_199997</td>\n",
       "      <td>11.6360</td>\n",
       "      <td>2.2769</td>\n",
       "      <td>11.2074</td>\n",
       "      <td>7.7649</td>\n",
       "      <td>12.6796</td>\n",
       "      <td>11.3224</td>\n",
       "      <td>5.3883</td>\n",
       "      <td>18.3794</td>\n",
       "      <td>1.6603</td>\n",
       "      <td>...</td>\n",
       "      <td>5.1536</td>\n",
       "      <td>2.6498</td>\n",
       "      <td>2.4937</td>\n",
       "      <td>-0.0637</td>\n",
       "      <td>20.0609</td>\n",
       "      <td>-1.1742</td>\n",
       "      <td>-4.1524</td>\n",
       "      <td>9.1933</td>\n",
       "      <td>11.7905</td>\n",
       "      <td>-22.2762</td>\n",
       "    </tr>\n",
       "    <tr>\n",
       "      <th>199998</th>\n",
       "      <td>test_199998</td>\n",
       "      <td>13.5745</td>\n",
       "      <td>-0.5134</td>\n",
       "      <td>13.6584</td>\n",
       "      <td>7.4855</td>\n",
       "      <td>11.2241</td>\n",
       "      <td>-11.3037</td>\n",
       "      <td>4.1959</td>\n",
       "      <td>16.8280</td>\n",
       "      <td>5.3208</td>\n",
       "      <td>...</td>\n",
       "      <td>3.4259</td>\n",
       "      <td>8.5012</td>\n",
       "      <td>2.2713</td>\n",
       "      <td>5.7621</td>\n",
       "      <td>17.0056</td>\n",
       "      <td>1.1763</td>\n",
       "      <td>-2.3761</td>\n",
       "      <td>8.1079</td>\n",
       "      <td>8.7735</td>\n",
       "      <td>-0.2122</td>\n",
       "    </tr>\n",
       "    <tr>\n",
       "      <th>199999</th>\n",
       "      <td>test_199999</td>\n",
       "      <td>10.4664</td>\n",
       "      <td>1.8070</td>\n",
       "      <td>10.2277</td>\n",
       "      <td>6.0654</td>\n",
       "      <td>10.0258</td>\n",
       "      <td>1.0789</td>\n",
       "      <td>4.8879</td>\n",
       "      <td>14.4892</td>\n",
       "      <td>-0.5902</td>\n",
       "      <td>...</td>\n",
       "      <td>0.1398</td>\n",
       "      <td>9.2828</td>\n",
       "      <td>1.3601</td>\n",
       "      <td>4.8985</td>\n",
       "      <td>20.0926</td>\n",
       "      <td>-1.3048</td>\n",
       "      <td>-2.5981</td>\n",
       "      <td>10.3378</td>\n",
       "      <td>14.3340</td>\n",
       "      <td>-7.7094</td>\n",
       "    </tr>\n",
       "  </tbody>\n",
       "</table>\n",
       "<p>200000 rows × 201 columns</p>\n",
       "</div>"
      ],
      "text/plain": [
       "            ID_code    var_0    var_1    var_2   var_3    var_4    var_5  \\\n",
       "0            test_0  11.0656   7.7798  12.9536  9.4292  11.4327  -2.3805   \n",
       "1            test_1   8.5304   1.2543  11.3047  5.1858   9.1974  -4.0117   \n",
       "2            test_2   5.4827 -10.3581  10.1407  7.0479  10.2628   9.8052   \n",
       "3            test_3   8.5374  -1.3222  12.0220  6.5749   8.8458   3.1744   \n",
       "4            test_4  11.7058  -0.1327  14.1295  7.7506   9.1035  -8.5848   \n",
       "...             ...      ...      ...      ...     ...      ...      ...   \n",
       "199995  test_199995  13.1678   1.0136  10.4333  6.7997   8.5974  -4.1641   \n",
       "199996  test_199996   9.7171  -9.1462   7.3443  9.1421  12.8936   3.0191   \n",
       "199997  test_199997  11.6360   2.2769  11.2074  7.7649  12.6796  11.3224   \n",
       "199998  test_199998  13.5745  -0.5134  13.6584  7.4855  11.2241 -11.3037   \n",
       "199999  test_199999  10.4664   1.8070  10.2277  6.0654  10.0258   1.0789   \n",
       "\n",
       "         var_6    var_7   var_8  ...  var_190  var_191  var_192  var_193  \\\n",
       "0       5.8493  18.2675  2.1337  ...  -2.1556  11.8495  -1.4300   2.4508   \n",
       "1       6.0196  18.6316 -4.4131  ...  10.6165   8.8349   0.9403  10.1282   \n",
       "2       4.8950  20.2537  1.5233  ...  -0.7484  10.9935   1.9803   2.1800   \n",
       "3       4.9397  20.5660  3.3755  ...   9.5702   9.0766   1.6580   3.5813   \n",
       "4       6.8595  10.6048  2.9890  ...   4.2259   9.1723   1.2835   3.3778   \n",
       "...        ...      ...     ...  ...      ...      ...      ...      ...   \n",
       "199995  4.8579  14.7625 -2.7239  ...   2.0544   9.6849   4.6734  -1.3660   \n",
       "199996  5.6888  18.8862  5.0915  ...   5.0071   6.6548   1.8197   2.4104   \n",
       "199997  5.3883  18.3794  1.6603  ...   5.1536   2.6498   2.4937  -0.0637   \n",
       "199998  4.1959  16.8280  5.3208  ...   3.4259   8.5012   2.2713   5.7621   \n",
       "199999  4.8879  14.4892 -0.5902  ...   0.1398   9.2828   1.3601   4.8985   \n",
       "\n",
       "        var_194  var_195  var_196  var_197  var_198  var_199  \n",
       "0       13.7112   2.4669   4.3654  10.7200  15.4722  -8.7197  \n",
       "1       15.5765   0.4773  -1.4852   9.8714  19.1293 -20.9760  \n",
       "2       12.9813   2.1281  -7.1086   7.0618  19.8956 -23.1794  \n",
       "3       15.1874   3.1656   3.9567   9.2295  13.0168  -4.2108  \n",
       "4       19.5542  -0.2860  -5.1612   7.2882  13.9260  -9.1846  \n",
       "...         ...      ...      ...      ...      ...      ...  \n",
       "199995  12.8721   1.2013  -4.6195   9.1568  18.2102   4.8801  \n",
       "199996  18.9037  -0.9337   2.9995   9.1112  18.1740 -20.7689  \n",
       "199997  20.0609  -1.1742  -4.1524   9.1933  11.7905 -22.2762  \n",
       "199998  17.0056   1.1763  -2.3761   8.1079   8.7735  -0.2122  \n",
       "199999  20.0926  -1.3048  -2.5981  10.3378  14.3340  -7.7094  \n",
       "\n",
       "[200000 rows x 201 columns]"
      ]
     },
     "execution_count": 55,
     "metadata": {},
     "output_type": "execute_result"
    }
   ],
   "source": [
    "test_df = pd.read_csv('test.csv')\n",
    "test_df"
   ]
  },
  {
   "cell_type": "code",
   "execution_count": 56,
   "metadata": {},
   "outputs": [],
   "source": [
    "X_test = test_df.iloc[:,1:].values\n",
    "X_test = sc.fit_transform(X_test)"
   ]
  },
  {
   "cell_type": "code",
   "execution_count": 74,
   "metadata": {
    "collapsed": true
   },
   "outputs": [
    {
     "name": "stdout",
     "output_type": "stream",
     "text": [
      "Iteration 1, loss = 0.25469709\n",
      "Iteration 2, loss = 0.23295271\n",
      "Iteration 3, loss = 0.22474450\n",
      "Iteration 4, loss = 0.21621220\n",
      "Iteration 5, loss = 0.20716225\n",
      "Iteration 6, loss = 0.19690295\n",
      "Iteration 7, loss = 0.18686265\n",
      "Iteration 8, loss = 0.17786850\n",
      "Iteration 9, loss = 0.16883004\n",
      "Iteration 10, loss = 0.16123723\n",
      "Iteration 11, loss = 0.15404481\n",
      "Iteration 12, loss = 0.14740481\n",
      "Iteration 13, loss = 0.14121262\n",
      "Iteration 14, loss = 0.13605688\n",
      "Iteration 15, loss = 0.13060360\n",
      "Iteration 16, loss = 0.12658253\n",
      "Iteration 17, loss = 0.12164014\n",
      "Iteration 18, loss = 0.11706261\n",
      "Iteration 19, loss = 0.11343718\n",
      "Iteration 20, loss = 0.10952260\n",
      "Iteration 21, loss = 0.10705513\n",
      "Iteration 22, loss = 0.10314548\n",
      "Iteration 23, loss = 0.10015111\n",
      "Iteration 24, loss = 0.09723843\n",
      "Iteration 25, loss = 0.09414738\n",
      "Iteration 26, loss = 0.09199232\n",
      "Iteration 27, loss = 0.08966681\n",
      "Iteration 28, loss = 0.08643607\n",
      "Iteration 29, loss = 0.08546537\n",
      "Iteration 30, loss = 0.08309393\n",
      "Iteration 31, loss = 0.08018460\n",
      "Iteration 32, loss = 0.07894402\n",
      "Iteration 33, loss = 0.07642866\n",
      "Iteration 34, loss = 0.07405274\n",
      "Iteration 35, loss = 0.07329406\n",
      "Iteration 36, loss = 0.07142372\n",
      "Iteration 37, loss = 0.06964519\n",
      "Iteration 38, loss = 0.06773644\n",
      "Iteration 39, loss = 0.06663050\n",
      "Iteration 40, loss = 0.06562743\n",
      "Iteration 41, loss = 0.06355695\n",
      "Iteration 42, loss = 0.06285472\n",
      "Iteration 43, loss = 0.06082277\n",
      "Iteration 44, loss = 0.05989169\n",
      "Iteration 45, loss = 0.05857656\n",
      "Iteration 46, loss = 0.05725199\n",
      "Iteration 47, loss = 0.05622985\n",
      "Iteration 48, loss = 0.05552639\n",
      "Iteration 49, loss = 0.05476876\n",
      "Iteration 50, loss = 0.05249019\n",
      "Iteration 51, loss = 0.05226517\n",
      "Iteration 52, loss = 0.05178671\n",
      "Iteration 53, loss = 0.04993471\n",
      "Iteration 54, loss = 0.05023879\n",
      "Iteration 55, loss = 0.04945442\n",
      "Iteration 56, loss = 0.04793624\n",
      "Iteration 57, loss = 0.04709131\n",
      "Iteration 58, loss = 0.04655768\n",
      "Iteration 59, loss = 0.04534106\n",
      "Iteration 60, loss = 0.04609391\n",
      "Iteration 61, loss = 0.04327738\n",
      "Iteration 62, loss = 0.04401719\n",
      "Iteration 63, loss = 0.04309474\n",
      "Iteration 64, loss = 0.04247130\n",
      "Iteration 65, loss = 0.04367052\n",
      "Iteration 66, loss = 0.04117987\n",
      "Iteration 67, loss = 0.04041676\n",
      "Iteration 68, loss = 0.03998969\n",
      "Iteration 69, loss = 0.04068821\n",
      "Iteration 70, loss = 0.04016865\n",
      "Iteration 71, loss = 0.03803444\n",
      "Iteration 72, loss = 0.03898669\n",
      "Iteration 73, loss = 0.03738434\n",
      "Iteration 74, loss = 0.03814359\n",
      "Iteration 75, loss = 0.03761182\n",
      "Iteration 76, loss = 0.03468053\n",
      "Iteration 77, loss = 0.03599643\n",
      "Iteration 78, loss = 0.03621145\n",
      "Iteration 79, loss = 0.03773721\n",
      "Iteration 80, loss = 0.03482358\n",
      "Iteration 81, loss = 0.03318669\n",
      "Iteration 82, loss = 0.03407591\n",
      "Iteration 83, loss = 0.03399120\n",
      "Iteration 84, loss = 0.03374537\n",
      "Iteration 85, loss = 0.03463916\n",
      "Iteration 86, loss = 0.03147698\n",
      "Iteration 87, loss = 0.03142350\n",
      "Iteration 88, loss = 0.03297235\n",
      "Iteration 89, loss = 0.03284984\n",
      "Iteration 90, loss = 0.03190851\n",
      "Iteration 91, loss = 0.03161624\n",
      "Iteration 92, loss = 0.03015933\n",
      "Iteration 93, loss = 0.03031500\n",
      "Iteration 94, loss = 0.03115612\n",
      "Iteration 95, loss = 0.03221140\n",
      "Iteration 96, loss = 0.03061200\n",
      "Iteration 97, loss = 0.02778664\n",
      "Iteration 98, loss = 0.02854428\n",
      "Iteration 99, loss = 0.03150601\n",
      "Iteration 100, loss = 0.02892041\n",
      "Iteration 101, loss = 0.02895400\n",
      "Iteration 102, loss = 0.02896735\n",
      "Iteration 103, loss = 0.02711460\n",
      "Iteration 104, loss = 0.02756652\n",
      "Iteration 105, loss = 0.02856142\n",
      "Iteration 106, loss = 0.02900217\n",
      "Iteration 107, loss = 0.02569685\n",
      "Iteration 108, loss = 0.02929385\n",
      "Iteration 109, loss = 0.02889265\n",
      "Iteration 110, loss = 0.02527158\n",
      "Iteration 111, loss = 0.02627268\n",
      "Iteration 112, loss = 0.02804097\n",
      "Iteration 113, loss = 0.02524473\n",
      "Iteration 114, loss = 0.02593305\n",
      "Iteration 115, loss = 0.02691509\n",
      "Iteration 116, loss = 0.02697447\n",
      "Iteration 117, loss = 0.02474879\n",
      "Iteration 118, loss = 0.02550944\n",
      "Iteration 119, loss = 0.02569164\n",
      "Iteration 120, loss = 0.02549935\n",
      "Iteration 121, loss = 0.02526538\n",
      "Iteration 122, loss = 0.02531714\n",
      "Iteration 123, loss = 0.02439123\n",
      "Iteration 124, loss = 0.02403494\n",
      "Iteration 125, loss = 0.02668437\n",
      "Iteration 126, loss = 0.02296627\n",
      "Iteration 127, loss = 0.02500904\n",
      "Iteration 128, loss = 0.02406826\n",
      "Iteration 129, loss = 0.02370032\n",
      "Iteration 130, loss = 0.02380424\n",
      "Iteration 131, loss = 0.02292517\n",
      "Iteration 132, loss = 0.02489823\n",
      "Iteration 133, loss = 0.02418717\n",
      "Iteration 134, loss = 0.02285292\n",
      "Iteration 135, loss = 0.02292642\n",
      "Iteration 136, loss = 0.02334746\n",
      "Iteration 137, loss = 0.02366053\n",
      "Training loss did not improve more than tol=0.000100 for 10 consecutive epochs. Stopping.\n"
     ]
    },
    {
     "data": {
      "text/plain": [
       "MLPClassifier(activation='relu', alpha=0.0001, batch_size='auto', beta_1=0.9,\n",
       "              beta_2=0.999, early_stopping=False, epsilon=1e-08,\n",
       "              hidden_layer_sizes=(150, 30), learning_rate='constant',\n",
       "              learning_rate_init=0.001, max_fun=15000, max_iter=200,\n",
       "              momentum=0.9, n_iter_no_change=10, nesterovs_momentum=True,\n",
       "              power_t=0.5, random_state=None, shuffle=True, solver='adam',\n",
       "              tol=0.0001, validation_fraction=0.1, verbose=True,\n",
       "              warm_start=False)"
      ]
     },
     "execution_count": 74,
     "metadata": {},
     "output_type": "execute_result"
    }
   ],
   "source": [
    "MLP = MLPClassifier(hidden_layer_sizes=(150,30),verbose=True)\n",
    "MLP.fit(X_2, y)"
   ]
  },
  {
   "cell_type": "code",
   "execution_count": 75,
   "metadata": {},
   "outputs": [],
   "source": [
    "y_pred = MLP.predict(X_test)"
   ]
  },
  {
   "cell_type": "code",
   "execution_count": 76,
   "metadata": {},
   "outputs": [
    {
     "data": {
      "text/plain": [
       "array([0, 0, 0, ..., 0, 0, 0], dtype=int64)"
      ]
     },
     "execution_count": 76,
     "metadata": {},
     "output_type": "execute_result"
    }
   ],
   "source": [
    "y_pred"
   ]
  },
  {
   "cell_type": "code",
   "execution_count": 77,
   "metadata": {},
   "outputs": [
    {
     "data": {
      "text/plain": [
       "Counter({0: 179625, 1: 20375})"
      ]
     },
     "execution_count": 77,
     "metadata": {},
     "output_type": "execute_result"
    }
   ],
   "source": [
    "collections.Counter(y_pred)"
   ]
  },
  {
   "cell_type": "code",
   "execution_count": 78,
   "metadata": {},
   "outputs": [],
   "source": [
    "sub_df = pd.DataFrame({\"ID_code\":test_df[\"ID_code\"].values})\n",
    "sub_df[\"target\"] = y_pred\n",
    "sub_df.to_csv(\"submission.csv\", index=False)"
   ]
  }
 ],
 "metadata": {
  "kernelspec": {
   "display_name": "Python 3",
   "language": "python",
   "name": "python3"
  },
  "language_info": {
   "codemirror_mode": {
    "name": "ipython",
    "version": 3
   },
   "file_extension": ".py",
   "mimetype": "text/x-python",
   "name": "python",
   "nbconvert_exporter": "python",
   "pygments_lexer": "ipython3",
   "version": "3.7.4"
  }
 },
 "nbformat": 4,
 "nbformat_minor": 4
}
